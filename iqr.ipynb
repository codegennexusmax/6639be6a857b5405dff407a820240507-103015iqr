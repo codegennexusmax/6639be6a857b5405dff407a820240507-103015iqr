{
 "cells": [
  {
   "cell_type": "markdown",
   "id": "127628a3",
   "metadata": {},
   "source": [
    "***GENERATED CODE FOR iqr PIPELINE.***"
   ]
  },
  {
   "cell_type": "markdown",
   "id": "5437959f",
   "metadata": {},
   "source": [
    "***DON'T EDIT THIS CODE.***"
   ]
  },
  {
   "cell_type": "markdown",
   "id": "f4204cae",
   "metadata": {},
   "source": [
    "***CONNECTOR FUNCTIONS TO READ DATA.***"
   ]
  },
  {
   "cell_type": "code",
   "execution_count": null,
   "id": "4a29de02",
   "metadata": {},
   "outputs": [],
   "source": [
    "import os\n",
    "import datetime\n",
    "import logging\n",
    "import warnings\n",
    "warnings.filterwarnings('ignore')\n",
    "logging.basicConfig(format='%(levelname)s:%(message)s', level=logging.INFO)\n",
    "\n",
    "\n",
    "class HDFSConnector:\n",
    "\n",
    "    def fetch(spark, config):\n",
    "        ################### INPUT HADOOP HOST PORT TO CONNECT WITH ###############################\n",
    "        hdfs_server = str(os.environ['HDFS_SERVER'])\n",
    "        hdfs_port = int(os.environ['HDFS_PORT'])\n",
    "        df = spark.read.options(header='true', inferschema='true').csv(\n",
    "            f\"hdfs://{hdfs_server}:{hdfs_port}{eval(config)['url']}\", header='true')\n",
    "        display(df.limit(2).toPandas())\n",
    "        return df\n",
    "\n",
    "    def put(df, spark, config):\n",
    "        return df.write.format('csv').options(header='true' if eval(config)[\"is_header\"] == \"Use Header Line\" else 'false',\n",
    "                                              delimiter=eval(config)[\"delimiter\"]).save((\"%s %s\") % (datetime.datetime.now().strftime(\"%Y-%m-%d %H.%M.%S\")+\"_\", eval(config)['url']))\n"
   ]
  },
  {
   "cell_type": "markdown",
   "id": "1f4f5c31",
   "metadata": {},
   "source": [
    "***OPERATION FUNCTIONS***"
   ]
  },
  {
   "cell_type": "code",
   "execution_count": null,
   "id": "16e343fe",
   "metadata": {},
   "outputs": [],
   "source": [
    "import pyspark\n",
    "from dask.dataframe import from_pandas\n",
    "import json\n",
    "\n",
    "\n",
    "def replaceValues(df, functionsData, applyOn):\n",
    "    for columnData in applyOn:\n",
    "        for functionData in functionsData:\n",
    "            if functionData['replaceType'] == 'value':\n",
    "                if functionData['replaceValueType'] == 'min':\n",
    "                    minValue = df[columnData['columnName']].min().compute()\n",
    "                    df[columnData['columnName']] = df[columnData['columnName']].replace(\n",
    "                        toReplace, minValue)\n",
    "                elif functionData['replaceValueType'] == 'max':\n",
    "                    maxValue = df[columnData['columnName']].max().compute()\n",
    "                    df[columnData['columnName']] = df[columnData['columnName']].replace(\n",
    "                        toReplace, maxValue)\n",
    "                else:\n",
    "                    df[columnData['columnName']] = df[columnData['columnName']].replace(\n",
    "                        toReplace, functionData['ReplaceWith'])\n",
    "            elif functionData['replaceType'] == 'none':\n",
    "                if functionData['replaceValueType'] == 'min':\n",
    "                    minValue = df[columnData['columnName']].min().compute()\n",
    "                    df[columnData['columnName']\n",
    "                       ] = df[columnData['columnName']].replace(\"\", minValue)\n",
    "                    df[columnData['columnName']\n",
    "                       ] = df[columnData['columnName']].fillna(minValue)\n",
    "                elif functionData['replaceValueType'] == 'max':\n",
    "                    maxValue = df[columnData['columnName']].max().compute()\n",
    "                    df[columnData['columnName']\n",
    "                       ] = df[columnData['columnName']].replace(\"\", maxValue)\n",
    "                    df[columnData['columnName']\n",
    "                       ] = df[columnData['columnName']].fillna(maxValue)\n",
    "                else:\n",
    "                    df[columnData['columnName']] = df[columnData['columnName']].replace(\n",
    "                        \"\", functionData['ReplaceWith'])\n",
    "                    df[columnData['columnName']] = df[columnData['columnName']].fillna(\n",
    "                        functionData['ReplaceWith'])\n",
    "    return df\n",
    "\n",
    "\n",
    "def runDataCleansing(sparkDf, spark, config):\n",
    "    configObj = json.loads(config)\n",
    "    sparkDf.persist(pyspark.StorageLevel.MEMORY_AND_DISK)\n",
    "    df = from_pandas((sparkDf.toPandas()), npartitions=5)\n",
    "    functionList = configObj['functionsApplied']\n",
    "    Data_Cleansing_Methods = {\"replaceBy\": replaceValues,\n",
    "                              \"formula\": calculateFormula,\n",
    "                              \"aggregate\": aggregation,\n",
    "                              \"converttostringtype\": changeToString,\n",
    "                              \"editname\": renameColumns}\n",
    "    for function in functionList:\n",
    "        function['functionName']\n",
    "        df = Data_Cleansing_Methods[function['functionName']](df, function['functionsData'],\n",
    "                                                              function['applyOn'])\n",
    "    sparkDf = spark.createDataFrame(df.compute())\n",
    "\n",
    "    display(sparkDf.limit(2).toPandas())\n",
    "    return sparkDf\n"
   ]
  },
  {
   "cell_type": "markdown",
   "id": "4fa5871d",
   "metadata": {},
   "source": [
    "***CONNECTOR FUNCTIONS TO WRITE DATA.***"
   ]
  },
  {
   "cell_type": "code",
   "execution_count": null,
   "id": "4d7f000e",
   "metadata": {},
   "outputs": [],
   "source": [
    "import datetime\n",
    "import requests\n",
    "import datetime\n",
    "import logging\n",
    "import warnings\n",
    "warnings.filterwarnings('ignore')\n",
    "logging.basicConfig(format='%(levelname)s:%(message)s', level=logging.INFO)\n",
    "\n",
    "\n",
    "class NumtraConnector:\n",
    "\n",
    "    def put(inStages, inStagesData, stageId, spark, config):\n",
    "        path = eval(config)['server_url']\n",
    "        baseType = eval(config)['baseType']\n",
    "        results_url = eval(config)['results_url']\n",
    "        server = eval(config)['server']\n",
    "        originalfile = eval(config)['orignalKey']\n",
    "        eval(config)['pathOnly']\n",
    "        filename = eval(config)['filename']\n",
    "        eval(config)['ser']\n",
    "        eval(config)['user']\n",
    "        eval(config)['password']\n",
    "        eval(config)['authSource']\n",
    "        eval(config)['user_id']\n",
    "        eval(config)['parent_id']\n",
    "        eval(config)['project_id']\n",
    "        time = str(int(datetime.datetime.now().timestamp()))\n",
    "\n",
    "        inStagesData[inStages[0]]\n",
    "\n",
    "        print(path)\n",
    "        print(baseType)\n",
    "        print(results_url)\n",
    "        print(server)\n",
    "        print(originalfile)\n",
    "        print(filename)\n",
    "\n",
    "        args = {\n",
    "            'url': path,\n",
    "            'baseType': baseType,\n",
    "            'originalfile': originalfile,\n",
    "            'filename': time + filename\n",
    "        }\n",
    "\n",
    "        response = requests.post(results_url, args)\n",
    "        return response\n"
   ]
  },
  {
   "cell_type": "markdown",
   "id": "1b404de3",
   "metadata": {},
   "source": [
    "***READING DATAFRAME***"
   ]
  },
  {
   "cell_type": "code",
   "execution_count": null,
   "id": "175612cf",
   "metadata": {},
   "outputs": [],
   "source": [
    "############## CREATE SPARK SESSION ############################ ENTER YOUR SPARK MASTER IP AND PORT TO CONNECT TO SERVER ################\n",
    "from pyspark.sql import SparkSession\n",
    "spark = SparkSession.builder.master('local[1]').getOrCreate()\n",
    "#%run iqrHooks.ipynb\n",
    "try:\n",
    "\t#sourcePreExecutionHook()\n",
    "\n",
    "\tseersample = HDFSConnector.fetch(spark, \"{'url': '/FileStore/platform/testdata/1714380674686_SEERSample.csv', 'FilePath': '/Ashruth_first_project/SEERSample.csv', 'delimiter': ',', 'file_type': 'Delimeted', 'filename': 'SEERSample.csv', 'viewFileName': 'SEERSample.csv', 'is_header': 'Use Header Line', 'server_url': '/nexusMax/NexusMaxPlatform/uploads/platform/', 'results_url': 'http://dnm.bfirst.ai:44040/api/read/hdfs'}\")\n",
    "\n",
    "except Exception as ex: \n",
    "\tlogging.error(ex)\n",
    "#spark.stop()\n"
   ]
  },
  {
   "cell_type": "markdown",
   "id": "0b8af0a4",
   "metadata": {},
   "source": [
    "***PERFORMING OPERATIONS***"
   ]
  },
  {
   "cell_type": "code",
   "execution_count": null,
   "id": "f904d512",
   "metadata": {},
   "outputs": [],
   "source": [
    "#%run iqrHooks.ipynb\n",
    "try:\n",
    "\t#operationPreExecutionHook()\n",
    "\n",
    "datapreparation = runDataCleansing(seersample,spark,json.dumps( {\"url\": \"/FileStore/platform/testdata/1714380674686_SEERSample.csv\", \"source_attributes\": {}, \"DataPrepFile\": \"/FileStore/platform/testdata/1714380674686_SEERSample.csv\", \"data_source\": \"platfiles\", \"startListenerOnly\": 1, \"dateColumnNames\": [], \"FilePath\": \"/FileStore/platform/extra/6639be8c857b5405dff407ee1715077598/0part.csv\", \"requestRatio\": 4.0, \"totalRows\": 2226, \"BasicStats\": {\"missingValues\": 0.0, \"numberOfColumns\": 16, \"numberOfRows\": 2226, \"duplicateRowCount\": 0, \"stats\": [{\"column\": \"CASENUM\", \"alias\": \"CASENUM\", \"generated\": 0, \"type\": \"numeric\", \"max\": 93458842.0, \"min\": 3619047.0, \"mean\": 49179004.990116805, \"missing\": 0.0, \"stddev\": 22870091.67, \"outliers\": [], \"validation\": []}, {\"column\": \"MAR_STAT\", \"alias\": \"MAR_STAT\", \"generated\": 0, \"type\": \"numeric\", \"max\": 1.0, \"min\": 0.0, \"mean\": 0.42632524707996405, \"missing\": 0.0, \"stddev\": 0.49, \"outliers\": [], \"validation\": []}, {\"column\": \"RACE\", \"alias\": \"RACE\", \"generated\": 0, \"type\": \"numeric\", \"max\": 1.0, \"min\": 0.0, \"mean\": 0.9146451033243486, \"missing\": 0.0, \"stddev\": 0.28, \"outliers\": [0, 0, 0, 0, 0, 0, 0, 0, 0, 0, 0, 0, 0, 0, 0, 0, 0, 0, 0, 0, 0, 0, 0, 0, 0, 0, 0, 0, 0, 0, 0, 0, 0, 0, 0, 0, 0, 0, 0, 0, 0, 0, 0, 0, 0, 0, 0, 0, 0, 0, 0, 0, 0, 0, 0, 0, 0, 0, 0, 0, 0, 0, 0, 0, 0, 0, 0, 0, 0, 0, 0, 0, 0, 0, 0, 0, 0, 0, 0, 0, 0, 0, 0, 0, 0, 0, 0, 0, 0, 0, 0, 0, 0, 0, 0, 0, 0, 0, 0, 0, 0, 0, 0, 0, 0, 0, 0, 0, 0, 0, 0, 0, 0, 0, 0, 0, 0, 0, 0, 0, 0, 0, 0, 0, 0, 0, 0, 0, 0, 0, 0, 0, 0, 0, 0, 0, 0, 0, 0, 0, 0, 0, 0, 0, 0, 0, 0, 0, 0, 0, 0, 0, 0, 0, 0, 0, 0, 0, 0, 0, 0, 0, 0, 0, 0, 0, 0, 0, 0, 0, 0, 0, 0, 0, 0, 0, 0, 0, 0, 0, 0, 0, 0, 0, 0, 0, 0, 0, 0, 0], \"validation\": []}, {\"column\": \"AGE_DX\", \"alias\": \"AGE_DX\", \"generated\": 0, \"type\": \"numeric\", \"max\": 83.0, \"min\": 0.0, \"mean\": 34.20485175202156, \"missing\": 0.0, \"stddev\": 10.36, \"outliers\": [60, 67, 58, 58, 71, 61, 57, 58, 70, 63, 72, 60, 67, 65, 60, 81, 57, 60, 65, 62, 57, 66, 61, 66, 83, 63, 0, 77, 59, 78, 59, 60, 61, 57, 57, 57, 60, 58, 1, 62, 67, 63, 59, 63, 63, 2, 83, 61, 61, 67, 62, 62, 0, 58, 68, 1, 60, 0, 2, 63, 0, 0], \"validation\": []}, {\"column\": \"DATE_yr\", \"alias\": \"DATE_yr\", \"generated\": 0, \"type\": \"numeric\", \"max\": 2003.0, \"min\": 1998.0, \"mean\": 2000.8890386343217, \"missing\": 0.0, \"stddev\": 1.6, \"outliers\": [], \"validation\": []}, {\"column\": \"HISTO3V\", \"alias\": \"HISTO3V\", \"generated\": 0, \"type\": \"numeric\", \"max\": 1.0, \"min\": 0.0, \"mean\": 0.6194968553459119, \"missing\": 0.0, \"stddev\": 0.49, \"outliers\": [], \"validation\": []}, {\"column\": \"EOD10_SZ\", \"alias\": \"EOD10_SZ\", \"generated\": 0, \"type\": \"numeric\", \"max\": 250.0, \"min\": 0.0, \"mean\": 42.606019766397125, \"missing\": 0.0, \"stddev\": 28.23, \"outliers\": [160, 150, 99, 115, 100, 145, 100, 130, 115, 100, 97, 122, 110, 110, 100, 120, 105, 100, 150, 108, 100, 98, 130, 100, 100, 100, 127, 120, 110, 105, 100, 100, 130, 135, 150, 106, 140, 120, 120, 110, 110, 103, 125, 190, 160, 150, 130, 230, 140, 105, 145, 140, 116, 210, 160, 100, 120, 210, 100, 170, 110, 102, 100, 100, 150, 150, 130, 120, 110, 115, 105, 105, 110, 100, 110, 110, 131, 110, 105, 100, 97, 160, 105, 102, 105, 110, 110, 100, 100, 100, 99, 110, 160, 150, 150, 105, 190, 100, 103, 100, 103, 120, 110, 120, 150, 100, 100, 250, 150, 140, 170, 165], \"validation\": []}, {\"column\": \"EOD10_EX\", \"alias\": \"EOD10_EX\", \"generated\": 0, \"type\": \"numeric\", \"max\": 99.0, \"min\": 10.0, \"mean\": 21.546271338724168, \"missing\": 0.0, \"stddev\": 22.22, \"outliers\": [99, 50, 99, 85, 85, 50, 30, 50, 85, 30, 50, 99, 30, 30, 85, 85, 50, 40, 50, 50, 45, 70, 85, 85, 45, 30, 30, 30, 85, 40, 50, 30, 50, 30, 40, 45, 40, 50, 45, 30, 45, 40, 45, 30, 50, 40, 40, 45, 50, 30, 40, 30, 30, 30, 30, 40, 30, 50, 50, 45, 50, 80, 50, 30, 45, 50, 50, 45, 40, 30, 30, 40, 30, 45, 40, 40, 45, 30, 85, 85, 50, 30, 50, 45, 85, 85, 45, 30, 30, 45, 50, 30, 99, 50, 50, 50, 50, 30, 40, 40, 99, 40, 30, 30, 30, 50, 45, 50, 99, 45, 50, 85, 50, 40, 45, 85, 50, 45, 30, 45, 40, 50, 85, 50, 40, 85, 85, 45, 30, 50, 40, 85, 45, 45, 45, 85, 50, 30, 50, 50, 50, 30, 85, 40, 30, 50, 50, 30, 45, 45, 30, 30, 50, 30, 40, 85, 85, 50, 30, 85, 30, 40, 85, 30, 99, 85, 85, 30, 60, 30, 50, 40, 60, 30, 85, 30, 85, 30, 85, 30, 50, 85, 60, 40, 85, 40, 50, 45, 85, 85, 85, 85, 99, 85, 85, 45, 85, 85, 85, 80, 50, 85, 99, 85, 85, 85, 60, 85, 50, 85, 40, 30, 40, 85, 45, 85, 40, 30, 85, 50, 30, 30, 99, 85, 50, 45, 85, 85, 50, 45, 85, 50, 40, 80, 40, 85, 45, 85, 85, 85, 85, 50, 30, 40, 30, 40, 40, 30, 40, 40, 30, 45, 30, 85, 85, 85, 85, 85, 50, 85, 30, 45, 50, 40, 40, 50, 30, 85, 50, 45, 30, 30, 50, 50, 30, 45, 30, 30, 85, 85, 85, 85, 85, 85, 50, 30, 50, 85, 85, 40, 85, 60, 50, 45, 50, 45, 30, 85, 85, 85, 30, 85, 85, 85, 85, 85, 85, 85, 85, 85, 85, 85, 85, 85, 50, 85, 85, 85, 85, 50, 85, 85, 45, 85, 45, 50, 50, 30, 50, 85, 85, 45, 85, 50, 85, 50, 85, 50, 45, 85, 50, 85, 40, 85, 85, 85, 45, 85, 50, 40, 30, 85, 30, 30, 50, 85, 85, 85, 85, 50, 50, 45, 50, 30, 30, 30, 85, 50, 40, 30, 85, 50, 30, 50, 30, 50, 85, 30, 45, 85, 30, 85, 85, 30, 45, 50, 85, 85, 85, 40, 45, 30, 50, 50, 30, 85, 85, 40, 85, 30, 85, 85, 85, 50, 85, 40, 85, 85, 85, 30, 85, 85, 85, 85, 85, 85, 85, 85, 85, 99, 85, 85, 85, 50, 40, 40, 30, 85, 85, 45, 40, 85, 30, 50, 30, 85, 30, 85, 85, 60, 50, 85, 85, 70, 50, 50, 85, 60, 85, 85, 85, 80, 85, 99, 40, 85, 85, 85, 40, 85, 85, 85, 85, 85, 85, 40, 80, 85, 40, 85, 50, 99], \"validation\": []}, {\"column\": \"TUMOR_1V\", \"alias\": \"TUMOR_1V\", \"generated\": 0, \"type\": \"numeric\", \"max\": 6.0, \"min\": 0.0, \"mean\": 2.6855345911949686, \"missing\": 0.0, \"stddev\": 1.47, \"outliers\": [], \"validation\": []}, {\"column\": \"TUMOR_2V\", \"alias\": \"TUMOR_2V\", \"generated\": 0, \"type\": \"numeric\", \"max\": 6.0, \"min\": 0.0, \"mean\": 2.696765498652291, \"missing\": 0.0, \"stddev\": 1.48, \"outliers\": [], \"validation\": []}, {\"column\": \"TUMOR_3V\", \"alias\": \"TUMOR_3V\", \"generated\": 0, \"type\": \"numeric\", \"max\": 6.0, \"min\": 0.0, \"mean\": 1.893980233602875, \"missing\": 0.0, \"stddev\": 1.92, \"outliers\": [], \"validation\": []}, {\"column\": \"SURGPRIM\", \"alias\": \"SURGPRIM\", \"generated\": 0, \"type\": \"numeric\", \"max\": 90.0, \"min\": 0.0, \"mean\": 42.97394429469901, \"missing\": 0.0, \"stddev\": 12.34, \"outliers\": [80, 80, 30, 80, 80, 80, 80, 80, 80, 80, 80, 30, 80, 80, 30, 80, 30, 30, 30, 80, 80, 30, 30, 80, 80, 80, 80, 80, 80, 80, 80, 30, 80, 80, 80, 80, 80, 30, 30, 80, 20, 80, 80, 80, 80, 80, 80, 80, 30, 80, 30, 80, 80, 80, 80, 30, 80, 80, 80, 80, 80, 30, 0, 80, 80, 80, 80, 80, 80, 80, 80, 80, 30, 80, 80, 80, 80, 80, 80, 80, 80, 80, 80, 30, 80, 80, 80, 80, 80, 80, 80, 30, 80, 80, 80, 80, 90, 80, 80, 0, 0, 0, 80, 30, 80, 80, 30, 80, 80, 80, 80, 80, 80, 80, 80, 80, 80, 80, 80, 80, 0, 80, 30, 80, 80, 80, 0, 0, 0, 80, 30, 30, 80, 0, 0, 0, 80, 80, 80, 30, 30, 80, 80, 30, 30, 80, 80, 80, 80, 80, 80, 30, 80, 80, 80, 80, 0, 80, 80, 80, 80, 80, 80, 80, 80, 30, 80, 80, 80, 80, 90, 80, 80, 80, 80, 80, 80, 80, 80, 30, 0, 80, 80, 0, 80, 80, 30, 80, 80, 0, 80, 80, 80, 80, 80, 80, 80, 80, 80, 80, 80, 80, 0, 30, 80, 80, 80, 80, 30, 80, 30, 30, 0, 80, 80, 80, 80, 30, 80, 80, 80, 80, 80, 80, 80, 80, 30, 30, 80, 80, 30, 80, 80, 80, 80, 80, 80, 80, 80, 80, 80, 0, 80, 0, 0, 80, 30, 80, 80, 80, 80, 80, 80, 80, 80, 0, 30, 80, 30, 80, 80, 80, 0], \"validation\": []}, {\"column\": \"RADIATN\", \"alias\": \"RADIATN\", \"generated\": 0, \"type\": \"numeric\", \"max\": 7.0, \"min\": 0.0, \"mean\": 0.504492362982929, \"missing\": 0.0, \"stddev\": 0.75, \"outliers\": [7, 7, 7, 7, 7, 7, 7, 7, 7, 7, 7, 7, 7, 7, 5, 5, 5, 5, 4], \"validation\": []}, {\"column\": \"RAD_SURG\", \"alias\": \"RAD_SURG\", \"generated\": 0, \"type\": \"numeric\", \"max\": 4.0, \"min\": 0.0, \"mean\": 1.3539982030548068, \"missing\": 0.0, \"stddev\": 1.49, \"outliers\": [], \"validation\": []}, {\"column\": \"o_dth_cl\", \"alias\": \"o_dth_cl\", \"generated\": 0, \"type\": \"numeric\", \"max\": 1.0, \"min\": 0.0, \"mean\": 0.03189577717879605, \"missing\": 0.0, \"stddev\": 0.18, \"outliers\": [1, 1, 1, 1, 1, 1, 1, 1, 1, 1, 1, 1, 1, 1, 1, 1, 1, 1, 1, 1, 1, 1, 1, 1, 1, 1, 1, 1, 1, 1, 1, 1, 1, 1, 1, 1, 1, 1, 1, 1, 1, 1, 1, 1, 1, 1, 1, 1, 1, 1, 1, 1, 1, 1, 1, 1, 1, 1, 1, 1, 1, 1, 1, 1, 1, 1, 1, 1, 1, 1, 1], \"validation\": []}, {\"column\": \"SURV_TM\", \"alias\": \"SURV_TM\", \"generated\": 0, \"type\": \"real\", \"max\": 9.0, \"min\": 0.0, \"mean\": 6.996783468104223, \"missing\": 0.0, \"stddev\": 2.01, \"outliers\": [0.83, 0.75, 1.58, 1.25, 0.5, 1.66, 0.25, 1.25, 1.75, 0.66, 0.58, 1.5, 1.75, 0.75, 0.08, 1.41, 0.91, 0.75, 0.83, 0.16, 0.0, 0.08, 0.0, 0.0, 1.33, 0.5, 0.33, 0.0, 0.83, 0.58, 0.0, 0.25, 0.75, 0.41, 1.25, 0.08, 1.08, 0.83, 0.41, 0.08, 1.08, 0.0, 1.66, 0.83, 0.66, 0.58, 1.83, 1.25, 0.33, 0.0, 0.41, 0.75, 0.33, 0.25, 1.41, 0.0, 1.41, 0.33, 0.0, 0.41, 0.33, 0.08, 0.25, 1.33, 1.41, 1.08, 0.58, 0.0, 1.25, 1.16, 0.41, 0.83, 0.33, 0.66, 0.75, 1.58, 0.0, 0.91, 0.33, 0.41, 0.08, 0.41, 0.58, 0.75, 1.75, 1.66, 0.16, 0.16], \"validation\": []}]}, \"predictionPowerScore\": [{\"AGE_DX\": 1.0, \"CASENUM\": 0.0, \"DATE_yr\": 0.0, \"EOD10_EX\": 0.0, \"EOD10_SZ\": 0.0, \"HISTO3V\": 0.0782014099, \"MAR_STAT\": 0.0950844716, \"RACE\": 0.0, \"RADIATN\": 0.0300135956, \"RAD_SURG\": 0.0294455668, \"SURGPRIM\": 0.0, \"SURV_TM\": 0.0, \"TUMOR_1V\": 0.0103743496, \"TUMOR_2V\": 0.0043947623, \"TUMOR_3V\": 0.0, \"o_dth_cl\": 0.0005343826}, {\"AGE_DX\": 0.0, \"CASENUM\": 1.0, \"DATE_yr\": 0.0671572894, \"EOD10_EX\": 0.0, \"EOD10_SZ\": 0.0, \"HISTO3V\": 0.0, \"MAR_STAT\": 0.0, \"RACE\": 0.0, \"RADIATN\": 0.0, \"RAD_SURG\": 0.0, \"SURGPRIM\": 0.0097349556, \"SURV_TM\": 0.0071555661, \"TUMOR_1V\": 0.0221332745, \"TUMOR_2V\": 0.0078180693, \"TUMOR_3V\": 0.0, \"o_dth_cl\": 0.0}, {\"AGE_DX\": 0.0, \"CASENUM\": 0.8240388752, \"DATE_yr\": 1.0, \"EOD10_EX\": 0.0, \"EOD10_SZ\": 0.0, \"HISTO3V\": 0.0, \"MAR_STAT\": 0.0, \"RACE\": 0.0, \"RADIATN\": 0.0, \"RAD_SURG\": 0.0, \"SURGPRIM\": 0.0, \"SURV_TM\": 0.6511679474, \"TUMOR_1V\": 0.0, \"TUMOR_2V\": 0.0, \"TUMOR_3V\": 0.0, \"o_dth_cl\": 0.0}, {\"AGE_DX\": 0.0, \"CASENUM\": 0.0, \"DATE_yr\": 0.0, \"EOD10_EX\": 1.0, \"EOD10_SZ\": 0.0, \"HISTO3V\": 0.0, \"MAR_STAT\": 0.0, \"RACE\": 0.0, \"RADIATN\": 0.0, \"RAD_SURG\": 0.0, \"SURGPRIM\": 0.0, \"SURV_TM\": 0.0, \"TUMOR_1V\": 0.0, \"TUMOR_2V\": 0.0, \"TUMOR_3V\": 0.0, \"o_dth_cl\": 0.0}, {\"AGE_DX\": 0.0, \"CASENUM\": 0.0, \"DATE_yr\": 0.0, \"EOD10_EX\": 0.0, \"EOD10_SZ\": 1.0, \"HISTO3V\": 0.0, \"MAR_STAT\": 0.0, \"RACE\": 0.0, \"RADIATN\": 0.0, \"RAD_SURG\": 0.0, \"SURGPRIM\": 0.0, \"SURV_TM\": 0.0, \"TUMOR_1V\": 0.0, \"TUMOR_2V\": 0.0, \"TUMOR_3V\": 0.0041786118, \"o_dth_cl\": 0.0}, {\"AGE_DX\": 0.0, \"CASENUM\": 0.0, \"DATE_yr\": 0.0, \"EOD10_EX\": 0.0, \"EOD10_SZ\": 0.0, \"HISTO3V\": 1.0, \"MAR_STAT\": 0.0, \"RACE\": 0.0, \"RADIATN\": 0.355353999, \"RAD_SURG\": 0.3389192539, \"SURGPRIM\": 0.0, \"SURV_TM\": 0.0, \"TUMOR_1V\": 0.0, \"TUMOR_2V\": 0.0, \"TUMOR_3V\": 0.0, \"o_dth_cl\": 0.0}, {\"AGE_DX\": 0.0971367033, \"CASENUM\": 0.0, \"DATE_yr\": 0.0, \"EOD10_EX\": 0.0, \"EOD10_SZ\": 0.0, \"HISTO3V\": 0.0, \"MAR_STAT\": 1.0, \"RACE\": 0.0, \"RADIATN\": 0.0, \"RAD_SURG\": 0.0, \"SURGPRIM\": 0.0, \"SURV_TM\": 0.0, \"TUMOR_1V\": 0.0, \"TUMOR_2V\": 0.0, \"TUMOR_3V\": 0.0, \"o_dth_cl\": 0.0}, {\"AGE_DX\": 0.0, \"CASENUM\": 0.0, \"DATE_yr\": 0.0, \"EOD10_EX\": 0.0, \"EOD10_SZ\": 0.0, \"HISTO3V\": 0.0, \"MAR_STAT\": 0.0, \"RACE\": 1.0, \"RADIATN\": 0.0, \"RAD_SURG\": 0.0, \"SURGPRIM\": 0.0, \"SURV_TM\": 0.0, \"TUMOR_1V\": 0.0, \"TUMOR_2V\": 0.0, \"TUMOR_3V\": 0.0, \"o_dth_cl\": 0.0}, {\"AGE_DX\": 0.0, \"CASENUM\": 0.0, \"DATE_yr\": 0.0, \"EOD10_EX\": 0.0, \"EOD10_SZ\": 0.0, \"HISTO3V\": 0.4270249161, \"MAR_STAT\": 0.0, \"RACE\": 0.0, \"RADIATN\": 1.0, \"RAD_SURG\": 0.7920076896, \"SURGPRIM\": 0.0, \"SURV_TM\": 0.0, \"TUMOR_1V\": 0.0310124453, \"TUMOR_2V\": 0.0, \"TUMOR_3V\": 0.0, \"o_dth_cl\": 0.0}, {\"AGE_DX\": 0.0, \"CASENUM\": 0.0, \"DATE_yr\": 0.0, \"EOD10_EX\": 0.0, \"EOD10_SZ\": 0.0, \"HISTO3V\": 0.4143380688, \"MAR_STAT\": 0.0, \"RACE\": 0.0, \"RADIATN\": 0.9986717507, \"RAD_SURG\": 1.0, \"SURGPRIM\": 0.0, \"SURV_TM\": 0.0, \"TUMOR_1V\": 0.0057328914, \"TUMOR_2V\": 0.0, \"TUMOR_3V\": 0.0, \"o_dth_cl\": 0.0}, {\"AGE_DX\": 0.0, \"CASENUM\": 0.0, \"DATE_yr\": 0.0, \"EOD10_EX\": 0.0, \"EOD10_SZ\": 0.0, \"HISTO3V\": 0.0, \"MAR_STAT\": 0.0, \"RACE\": 0.0, \"RADIATN\": 0.0, \"RAD_SURG\": 0.0, \"SURGPRIM\": 1.0, \"SURV_TM\": 0.0, \"TUMOR_1V\": 0.0, \"TUMOR_2V\": 0.0, \"TUMOR_3V\": 0.0, \"o_dth_cl\": 0.0}, {\"AGE_DX\": 0.0, \"CASENUM\": 0.3812549482, \"DATE_yr\": 0.4645076952, \"EOD10_EX\": 0.0, \"EOD10_SZ\": 0.0, \"HISTO3V\": 0.0, \"MAR_STAT\": 0.0, \"RACE\": 0.0, \"RADIATN\": 0.0, \"RAD_SURG\": 0.0, \"SURGPRIM\": 0.0, \"SURV_TM\": 1.0, \"TUMOR_1V\": 0.0, \"TUMOR_2V\": 0.0006768357, \"TUMOR_3V\": 0.0074670842, \"o_dth_cl\": 0.0181068322}, {\"AGE_DX\": 0.0, \"CASENUM\": 0.0, \"DATE_yr\": 0.0, \"EOD10_EX\": 0.0, \"EOD10_SZ\": 0.0, \"HISTO3V\": 0.000139328, \"MAR_STAT\": 0.0, \"RACE\": 0.0, \"RADIATN\": 0.0, \"RAD_SURG\": 0.0, \"SURGPRIM\": 0.0, \"SURV_TM\": 0.0, \"TUMOR_1V\": 1.0, \"TUMOR_2V\": 0.3322590828, \"TUMOR_3V\": 0.0797693617, \"o_dth_cl\": 0.0}, {\"AGE_DX\": 0.0, \"CASENUM\": 0.0, \"DATE_yr\": 0.0, \"EOD10_EX\": 0.0, \"EOD10_SZ\": 0.0, \"HISTO3V\": 0.0, \"MAR_STAT\": 0.0, \"RACE\": 0.0, \"RADIATN\": 0.0, \"RAD_SURG\": 0.0, \"SURGPRIM\": 0.0, \"SURV_TM\": 0.0, \"TUMOR_1V\": 0.3881724572, \"TUMOR_2V\": 1.0, \"TUMOR_3V\": 0.1431050136, \"o_dth_cl\": 0.0}, {\"AGE_DX\": 0.0, \"CASENUM\": 0.0, \"DATE_yr\": 0.0, \"EOD10_EX\": 0.0, \"EOD10_SZ\": 0.0, \"HISTO3V\": 0.0, \"MAR_STAT\": 0.0, \"RACE\": 0.0, \"RADIATN\": 0.0, \"RAD_SURG\": 0.0, \"SURGPRIM\": 0.0, \"SURV_TM\": 0.0, \"TUMOR_1V\": 0.0735035711, \"TUMOR_2V\": 0.0896168145, \"TUMOR_3V\": 1.0, \"o_dth_cl\": 0.0}, {\"AGE_DX\": 0.0, \"CASENUM\": 0.0, \"DATE_yr\": 0.0, \"EOD10_EX\": 0.0, \"EOD10_SZ\": 0.0, \"HISTO3V\": 0.0, \"MAR_STAT\": 0.0, \"RACE\": 0.0, \"RADIATN\": 0.0, \"RAD_SURG\": 0.0, \"SURGPRIM\": 0.0, \"SURV_TM\": 0.0, \"TUMOR_1V\": 0.0, \"TUMOR_2V\": 0.0, \"TUMOR_3V\": 0.0, \"o_dth_cl\": 1.0}], \"HasBasicStats\": 1, \"functionsApplied\": [{\"functionName\": \"replaceBy\", \"applyOn\": [{\"columnName\": \"SURV_TM\", \"type\": \"real\", \"min\": \"0.0\", \"max\": \"10.9\", \"mean\": \"2.2\"}], \"functionsData\": [{\"replaceType\": \"value\", \"toReplace\": \"8\", \"replaceValueType\": \"byValue\", \"replaceValueCondition\": \"greaterthan\", \"ReplaceWith\": \"9\", \"asNewColumn\": 0, \"newColumnName\": \"\"}]}], \"functionChanges\": [{\"columnName\": \"SURV_TM\", \"functionName\": \"Replace Outliers\", \"Type\": \"real\", \"Parameters\": [{\"replaceType\": \"value\", \"toReplace\": \"8\", \"replaceValueType\": \"byValue\", \"replaceValueCondition\": \"greaterthan\", \"ReplaceWith\": \"9\", \"asNewColumn\": 0, \"newColumnName\": \"\"}]}], \"fileheader\": [{\"field\": \"CASENUM\", \"alias\": \"CASENUM\", \"generated\": 0, \"position\": 1, \"type\": \"numeric\"}, {\"field\": \"MAR_STAT\", \"alias\": \"MAR_STAT\", \"generated\": 0, \"position\": 2, \"type\": \"numeric\"}, {\"field\": \"RACE\", \"alias\": \"RACE\", \"generated\": 0, \"position\": 3, \"type\": \"numeric\"}, {\"field\": \"AGE_DX\", \"alias\": \"AGE_DX\", \"generated\": 0, \"position\": 4, \"type\": \"numeric\"}, {\"field\": \"DATE_yr\", \"alias\": \"DATE_yr\", \"generated\": 0, \"position\": 5, \"type\": \"numeric\"}, {\"field\": \"HISTO3V\", \"alias\": \"HISTO3V\", \"generated\": 0, \"position\": 6, \"type\": \"numeric\"}, {\"field\": \"EOD10_SZ\", \"alias\": \"EOD10_SZ\", \"generated\": 0, \"position\": 7, \"type\": \"numeric\"}, {\"field\": \"EOD10_EX\", \"alias\": \"EOD10_EX\", \"generated\": 0, \"position\": 8, \"type\": \"numeric\"}, {\"field\": \"TUMOR_1V\", \"alias\": \"TUMOR_1V\", \"generated\": 0, \"position\": 9, \"type\": \"numeric\"}, {\"field\": \"TUMOR_2V\", \"alias\": \"TUMOR_2V\", \"generated\": 0, \"position\": 10, \"type\": \"numeric\"}, {\"field\": \"TUMOR_3V\", \"alias\": \"TUMOR_3V\", \"generated\": 0, \"position\": 11, \"type\": \"numeric\"}, {\"field\": \"SURGPRIM\", \"alias\": \"SURGPRIM\", \"generated\": 0, \"position\": 12, \"type\": \"numeric\"}, {\"field\": \"RADIATN\", \"alias\": \"RADIATN\", \"generated\": 0, \"position\": 13, \"type\": \"numeric\"}, {\"field\": \"RAD_SURG\", \"alias\": \"RAD_SURG\", \"generated\": 0, \"position\": 14, \"type\": \"numeric\"}, {\"field\": \"o_dth_cl\", \"alias\": \"o_dth_cl\", \"generated\": 0, \"position\": 15, \"type\": \"numeric\"}, {\"field\": \"SURV_TM\", \"alias\": \"SURV_TM\", \"generated\": 0, \"position\": 16, \"type\": \"real\"}]}))\n",
    "\t#operationPostExecutionHook(datapreparation)\n",
    "\n",
    "except Exception as ex: \n",
    "\tlogging.error(ex)\n"
   ]
  },
  {
   "cell_type": "markdown",
   "id": "46edc4e4",
   "metadata": {},
   "source": [
    "***WRITING DATAFRAME***"
   ]
  },
  {
   "cell_type": "code",
   "execution_count": null,
   "id": "d4e51cb1",
   "metadata": {},
   "outputs": [],
   "source": [
    "#%run iqrHooks.ipynb\n",
    "try:\n",
    "\t#sinkPreExecutionHook()\n",
    "\n",
    "\tiqrtestingoutput = NumtraConnector.fetch(spark, \"{'samplefile': {'status': False}, 'samplecount': 243, 'originalcount': 2226, 'orignalKey': None, 'pathOnly': '/IQR testing', 'project_id': '6639be1a857b5405dff407a0', 'parent_id': '6639be1a857b5405dff407a0', 'original_schema': [], 'actual_schema': [], 'server': 'https://dnm.bfirst.ai:443', 'server_url': '/nexusMax/NexusMaxPlatform/uploads/platform/', 'delimiter': ',', 'file_type': 'Delimeted', 'filename': 'IQRoutput.csv', 'token': '', 'domain': '', 'is_header': 'Use Header Line', 'url': '/FileStore/platform/uploadedSourceFiles/part-00000-1ec2c285-0df8-44b8-a380-20d84c1deb7a-c000.csv', 'results_url': 'http://dnm.bfirst.ai:44040/api/read/hdfs'}\")\n",
    "\n",
    "except Exception as ex: \n",
    "\tlogging.error(ex)\n"
   ]
  }
 ],
 "metadata": {},
 "nbformat": 4,
 "nbformat_minor": 5
}
